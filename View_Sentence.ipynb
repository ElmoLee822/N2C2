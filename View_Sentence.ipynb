{
 "cells": [
  {
   "cell_type": "code",
   "execution_count": 22,
   "metadata": {
    "collapsed": true
   },
   "outputs": [],
   "source": [
    "from collections import namedtuple\n",
    "import re"
   ]
  },
  {
   "cell_type": "code",
   "execution_count": 23,
   "metadata": {},
   "outputs": [
    {
     "data": {
      "text/plain": [
       "[ConceptMMI(index='00000000', mm='MMI', score='61.19', preferred_name='Aspirin', cui='C0004057', semtypes='[orch,phsu]', trigger='[\"ASPIRIN\"-tx-1-\"Aspirin\"-noun-0,\"Acetylsalicylic Acid\"-tx-1-\"ACETYLSALICYLIC Acid\"-noun-0]', location='TX', pos_info='1/7;10/20', tree_codes='D02.455.426.559.389.657.410.595.176'),\n",
       " ConceptMMI(index='00000000', mm='MMI', score='9.76', preferred_name='Portugal', cui='C0032729', semtypes='[geoa]', trigger='[\"PO\"-tx-1-\"PO\"-noun-0]', location='TX', pos_info='48/2', tree_codes='Z01.542.727'),\n",
       " ConceptMMI(index='00000000', mm='MMI', score='9.76', preferred_name='Tablet Dosage Form', cui='C0039225', semtypes='[bodm]', trigger='[\"TABLET\"-tx-1-\"TABLET\"-noun-0]', location='TX', pos_info='40/6', tree_codes='D26.255.830'),\n",
       " ConceptMMI(index='00000000', mm='MMI', score='3.62', preferred_name='30 days', cui='C4028326', semtypes='[tmco]', trigger='[\"30 days\"-tx-1-\"30 days\"-noun-0]', location='TX', pos_info='56/7', tree_codes=''),\n",
       " ConceptMMI(index='00000000', mm='MMI', score='3.45', preferred_name='Daily', cui='C0332173', semtypes='[tmco]', trigger='[\"QD\"-tx-1-\"QD\"-noun-0]', location='TX', pos_info='51/2', tree_codes=''),\n",
       " ConceptMMI(index='00000000', mm='MMI', score='3.45', preferred_name='Oral', cui='C0442027', semtypes='[spco]', trigger='[\"PO\"-tx-1-\"PO\"-noun-0]', location='TX', pos_info='48/2', tree_codes=''),\n",
       " ConceptMMI(index='00000000', mm='MMI', score='3.45', preferred_name='Tablet Dosing Unit', cui='C1705223', semtypes='[qnco]', trigger='[\"TABLET\"-tx-1-\"TABLET\"-noun-0]', location='TX', pos_info='40/6', tree_codes='')]"
      ]
     },
     "execution_count": 23,
     "metadata": {},
     "output_type": "execute_result"
    }
   ],
   "source": [
    "sentence = \"\"\"Aspirin (ACETYLSALICYLIC Acid)   325MG TABLET  PO QD x 30 days\"\"\"\n",
    "ConceptMMI = namedtuple('ConceptMMI', ['index', 'mm', 'score', 'preferred_name', 'cui', 'semtypes', 'trigger', 'location', 'pos_info', 'tree_codes'])\n",
    "concept_list = []\n",
    "\n",
    "concept_list.append(ConceptMMI(index='00000000', mm='MMI', score='61.19', preferred_name='Aspirin', cui='C0004057', semtypes='[orch,phsu]', trigger='[\"ASPIRIN\"-tx-1-\"Aspirin\"-noun-0,\"Acetylsalicylic Acid\"-tx-1-\"ACETYLSALICYLIC Acid\"-noun-0]', location='TX', pos_info='1/7;10/20', tree_codes='D02.455.426.559.389.657.410.595.176'))\n",
    "concept_list.append(ConceptMMI(index='00000000', mm='MMI', score='9.76', preferred_name='Portugal', cui='C0032729', semtypes='[geoa]', trigger='[\"PO\"-tx-1-\"PO\"-noun-0]', location='TX', pos_info='48/2', tree_codes='Z01.542.727'))\n",
    "concept_list.append(ConceptMMI(index='00000000', mm='MMI', score='9.76', preferred_name='Tablet Dosage Form', cui='C0039225', semtypes='[bodm]', trigger='[\"TABLET\"-tx-1-\"TABLET\"-noun-0]', location='TX', pos_info='40/6', tree_codes='D26.255.830'))\n",
    "concept_list.append(ConceptMMI(index='00000000', mm='MMI', score='3.62', preferred_name='30 days', cui='C4028326', semtypes='[tmco]', trigger='[\"30 days\"-tx-1-\"30 days\"-noun-0]', location='TX', pos_info='56/7', tree_codes=''))\n",
    "concept_list.append(ConceptMMI(index='00000000', mm='MMI', score='3.45', preferred_name='Daily', cui='C0332173', semtypes='[tmco]', trigger='[\"QD\"-tx-1-\"QD\"-noun-0]', location='TX', pos_info='51/2', tree_codes=''))\n",
    "concept_list.append(ConceptMMI(index='00000000', mm='MMI', score='3.45', preferred_name='Oral', cui='C0442027', semtypes='[spco]', trigger='[\"PO\"-tx-1-\"PO\"-noun-0]', location='TX', pos_info='48/2', tree_codes=''))\n",
    "concept_list.append(ConceptMMI(index='00000000', mm='MMI', score='3.45', preferred_name='Tablet Dosing Unit', cui='C1705223', semtypes='[qnco]', trigger='[\"TABLET\"-tx-1-\"TABLET\"-noun-0]', location='TX', pos_info='40/6', tree_codes=''))\n",
    "\n",
    "concept_list"
   ]
  },
  {
   "cell_type": "code",
   "execution_count": 24,
   "metadata": {},
   "outputs": [
    {
     "name": "stdout",
     "output_type": "stream",
     "text": [
      "ACETYLSALICYLIC Acid\n",
      "PO\n",
      "TABLET\n"
     ]
    }
   ],
   "source": [
    "print(sentence[9:29]) #ACETYLSALICYLIC Acid\n",
    "print(sentence[47:49]) #PO\n",
    "print(sentence[39:45]) #TABLET"
   ]
  },
  {
   "cell_type": "code",
   "execution_count": 25,
   "metadata": {},
   "outputs": [
    {
     "name": "stdout",
     "output_type": "stream",
     "text": [
      "Aspirin\n",
      "Portugal\n",
      "Tablet Dosage Form\n",
      "30 days\n",
      "Daily\n",
      "Oral\n",
      "Tablet Dosing Unit\n"
     ]
    }
   ],
   "source": [
    "for concept in concept_list:\n",
    "    print(concept.preferred_name)"
   ]
  },
  {
   "cell_type": "code",
   "execution_count": 34,
   "metadata": {
    "collapsed": true
   },
   "outputs": [],
   "source": [
    "def view_sentence(sentence, concept_list, hide_semtypes=None):\n",
    "    #close\n",
    "    if hide_semtypes is None:\n",
    "        hide_semtypes = ['geoa','tmco']\n",
    "    \n",
    "    html_str = \"\"\n",
    "    highlight_style = \"\"\"\n",
    "    <style>\n",
    "    span.highlight\n",
    "    {\n",
    "      background-color:yellow;\n",
    "    }\n",
    "    </style>\n",
    "    \"\"\"\n",
    "    \n",
    "    #html_str = highlight_style + \"<h1 id=\\\"sentence\\\">\"+ sentence + \"</h1>\"\n",
    "    \n",
    "    html_str = highlight_style + \"<p>\"\n",
    "    \n",
    "    sent_highlight = sentence\n",
    "    word_concept = {}\n",
    "    \n",
    "    for concept in concept_list:\n",
    "        #get semtypes in each concept\n",
    "        tmp_1 = concept.semtypes[1:-1]     #remove '[' and ']'\n",
    "        con_semtypes = re.split(',', tmp_1)\n",
    "        con_semtypes = list(set(con_semtypes) - set(hide_semtypes))  #remove semtypes which is hide_semtypes\n",
    "\n",
    "        if con_semtypes:   \n",
    "            #trigger word position in sentence\n",
    "            position = re.split(';', concept.pos_info)\n",
    "            for pos in position:\n",
    "                tmp = re.split('/', pos)\n",
    "                #print(tmp)\n",
    "                start_pos = int(tmp[0])\n",
    "                end = int(tmp[1])\n",
    "\n",
    "\n",
    "                word = sentence[start_pos-1 : start_pos-1+end]  #concept word\n",
    "                if word not in word_concept:\n",
    "                    word_concept[word] = []\n",
    "                    word_concept[word].append(concept.preferred_name)\n",
    "                else:\n",
    "                    word_concept[word].append(concept.preferred_name)\n",
    "\n",
    "    print(word_concept)\n",
    "    \n",
    "    for word in word_concept:\n",
    "        title = \"\"\n",
    "        \n",
    "        for i in range(0, len(word_concept[word])):\n",
    "            con = word_concept[word][i]\n",
    "            \n",
    "            for concept in concept_list:\n",
    "                if concept.preferred_name == con:\n",
    "                    con_id = concept.cui\n",
    "                    \n",
    "                    if i == len(word_concept[word])-1:\n",
    "                        title += con_id + \"|\" + con\n",
    "                    else:\n",
    "                        title += con_id + \"|\" + con + \", \"\n",
    "                        #print(title)\n",
    "            \n",
    "        word_highlight = \"<span class=\\\"highlight\\\" title=\\\"\" + title + \"\\\">\" + word + \"</span>\"\n",
    "        sent_highlight = sent_highlight.replace(word, word_highlight)\n",
    "    \n",
    "    html_str += sent_highlight\n",
    "    html_str = html_str + \"</p>\"        \n",
    "        \n",
    "    Html_file = open(\"/Users/iir/view_sentence_html.html\",\"w\")\n",
    "    Html_file.write(html_str)\n",
    "    Html_file.close()"
   ]
  },
  {
   "cell_type": "code",
   "execution_count": 35,
   "metadata": {
    "scrolled": false
   },
   "outputs": [
    {
     "name": "stdout",
     "output_type": "stream",
     "text": [
      "{'Aspirin': ['Aspirin'], 'ACETYLSALICYLIC Acid': ['Aspirin'], 'TABLET': ['Tablet Dosage Form', 'Tablet Dosing Unit'], 'PO': ['Oral']}\n"
     ]
    }
   ],
   "source": [
    "view_sentence(sentence, concept_list)"
   ]
  },
  {
   "cell_type": "code",
   "execution_count": null,
   "metadata": {
    "collapsed": true
   },
   "outputs": [],
   "source": []
  }
 ],
 "metadata": {
  "kernelspec": {
   "display_name": "Python 3",
   "language": "python",
   "name": "python3"
  },
  "language_info": {
   "codemirror_mode": {
    "name": "ipython",
    "version": 3
   },
   "file_extension": ".py",
   "mimetype": "text/x-python",
   "name": "python",
   "nbconvert_exporter": "python",
   "pygments_lexer": "ipython3",
   "version": "3.6.1"
  }
 },
 "nbformat": 4,
 "nbformat_minor": 2
}
